{
  "nbformat": 4,
  "nbformat_minor": 0,
  "metadata": {
    "kernelspec": {
      "display_name": "Python 3",
      "language": "python",
      "name": "python3"
    },
    "language_info": {
      "codemirror_mode": {
        "name": "ipython",
        "version": 3
      },
      "file_extension": ".py",
      "mimetype": "text/x-python",
      "name": "python",
      "nbconvert_exporter": "python",
      "pygments_lexer": "ipython3",
      "version": "3.8.5"
    },
    "colab": {
      "name": "Model Development.ipynb",
      "provenance": [],
      "toc_visible": true
    }
  },
  "cells": [
    {
      "cell_type": "markdown",
      "metadata": {
        "id": "5mxhaDxQJ4UU"
      },
      "source": [
        "## Load Preprocessed Data"
      ]
    },
    {
      "cell_type": "code",
      "metadata": {
        "id": "yb_78gZxCZbO",
        "outputId": "b8350cc3-51a6-4ea3-d8f5-4d43556eb9ba",
        "colab": {
          "base_uri": "https://localhost:8080/"
        }
      },
      "source": [
        "from google.colab import drive\n",
        "drive.mount('/content/drive')"
      ],
      "execution_count": 4,
      "outputs": [
        {
          "output_type": "stream",
          "name": "stdout",
          "text": [
            "Mounted at /content/drive\n"
          ]
        }
      ]
    },
    {
      "cell_type": "code",
      "metadata": {
        "id": "GfUuuJ2MJ4Ua"
      },
      "source": [
        "import pandas as pd\n",
        "import numpy as np\n",
        "import matplotlib.pyplot as plt\n",
        "from sklearn.model_selection import train_test_split"
      ],
      "execution_count": 1,
      "outputs": []
    },
    {
      "cell_type": "code",
      "metadata": {
        "id": "sB1xxDFXJ4Ub",
        "outputId": "eb3040b7-06d8-412e-8edc-e8bffadf4ea3",
        "colab": {
          "base_uri": "https://localhost:8080/",
          "height": 826
        }
      },
      "source": [
        "df = pd.read_csv('/content/drive/MyDrive/Dataset/Electronics_processed.csv', index_col=0)\n",
        "df"
      ],
      "execution_count": 44,
      "outputs": [
        {
          "output_type": "stream",
          "name": "stderr",
          "text": [
            "/usr/local/lib/python3.7/dist-packages/numpy/lib/arraysetops.py:580: FutureWarning: elementwise comparison failed; returning scalar instead, but in the future will perform elementwise comparison\n",
            "  mask |= (ar1 == a)\n"
          ]
        },
        {
          "output_type": "execute_result",
          "data": {
            "text/html": [
              "<div>\n",
              "<style scoped>\n",
              "    .dataframe tbody tr th:only-of-type {\n",
              "        vertical-align: middle;\n",
              "    }\n",
              "\n",
              "    .dataframe tbody tr th {\n",
              "        vertical-align: top;\n",
              "    }\n",
              "\n",
              "    .dataframe thead th {\n",
              "        text-align: right;\n",
              "    }\n",
              "</style>\n",
              "<table border=\"1\" class=\"dataframe\">\n",
              "  <thead>\n",
              "    <tr style=\"text-align: right;\">\n",
              "      <th></th>\n",
              "      <th>reviewerID</th>\n",
              "      <th>asin</th>\n",
              "      <th>reviewerName</th>\n",
              "      <th>helpful</th>\n",
              "      <th>reviewText</th>\n",
              "      <th>overall</th>\n",
              "      <th>summary</th>\n",
              "      <th>unixReviewTime</th>\n",
              "      <th>review_time</th>\n",
              "    </tr>\n",
              "  </thead>\n",
              "  <tbody>\n",
              "    <tr>\n",
              "      <th>0</th>\n",
              "      <td>AO94DHGC771SJ</td>\n",
              "      <td>0528881469</td>\n",
              "      <td>amazdnu</td>\n",
              "      <td>[0, 0]</td>\n",
              "      <td>got gps husband otr road trucker impressed shi...</td>\n",
              "      <td>5.0</td>\n",
              "      <td>Gotta have GPS!</td>\n",
              "      <td>1370131200</td>\n",
              "      <td>2013-06-02</td>\n",
              "    </tr>\n",
              "    <tr>\n",
              "      <th>1</th>\n",
              "      <td>AMO214LNFCEI4</td>\n",
              "      <td>0528881469</td>\n",
              "      <td>Amazon Customer</td>\n",
              "      <td>[12, 15]</td>\n",
              "      <td>professional otr truck driver bought tnd truck...</td>\n",
              "      <td>1.0</td>\n",
              "      <td>Very Disappointed</td>\n",
              "      <td>1290643200</td>\n",
              "      <td>2010-11-25</td>\n",
              "    </tr>\n",
              "    <tr>\n",
              "      <th>2</th>\n",
              "      <td>A3N7T0DY83Y4IG</td>\n",
              "      <td>0528881469</td>\n",
              "      <td>C. A. Freeman</td>\n",
              "      <td>[43, 45]</td>\n",
              "      <td>well say unit truck four day prior garmin nont...</td>\n",
              "      <td>3.0</td>\n",
              "      <td>1st impression</td>\n",
              "      <td>1283990400</td>\n",
              "      <td>2010-09-09</td>\n",
              "    </tr>\n",
              "    <tr>\n",
              "      <th>3</th>\n",
              "      <td>A1H8PY3QHMQQA0</td>\n",
              "      <td>0528881469</td>\n",
              "      <td>Dave M. Shaw \"mack dave\"</td>\n",
              "      <td>[9, 10]</td>\n",
              "      <td>going write long review even thought unit dese...</td>\n",
              "      <td>2.0</td>\n",
              "      <td>Great grafics, POOR GPS</td>\n",
              "      <td>1290556800</td>\n",
              "      <td>2010-11-24</td>\n",
              "    </tr>\n",
              "    <tr>\n",
              "      <th>4</th>\n",
              "      <td>A24EV6RXELQZ63</td>\n",
              "      <td>0528881469</td>\n",
              "      <td>Wayne Smith</td>\n",
              "      <td>[0, 0]</td>\n",
              "      <td>mine year got try route non truck route tellin...</td>\n",
              "      <td>1.0</td>\n",
              "      <td>Major issues, only excuses for support</td>\n",
              "      <td>1317254400</td>\n",
              "      <td>2011-09-29</td>\n",
              "    </tr>\n",
              "    <tr>\n",
              "      <th>...</th>\n",
              "      <td>...</td>\n",
              "      <td>...</td>\n",
              "      <td>...</td>\n",
              "      <td>...</td>\n",
              "      <td>...</td>\n",
              "      <td>...</td>\n",
              "      <td>...</td>\n",
              "      <td>...</td>\n",
              "      <td>...</td>\n",
              "    </tr>\n",
              "    <tr>\n",
              "      <th>1689183</th>\n",
              "      <td>A34BZM6S9L7QI4</td>\n",
              "      <td>B00LGQ6HL8</td>\n",
              "      <td>Candy Cane \"Is it just me?\"</td>\n",
              "      <td>[1, 1]</td>\n",
              "      <td>burned listening hour sine wave app learned mu...</td>\n",
              "      <td>5.0</td>\n",
              "      <td>Boom -- Pop -- Pow.  These deliver.</td>\n",
              "      <td>1405555200</td>\n",
              "      <td>2014-07-17</td>\n",
              "    </tr>\n",
              "    <tr>\n",
              "      <th>1689184</th>\n",
              "      <td>A1G650TTTHEAL5</td>\n",
              "      <td>B00LGQ6HL8</td>\n",
              "      <td>Charles Spanky \"Zumina Reviews\"</td>\n",
              "      <td>[0, 0]</td>\n",
              "      <td>people like dj style headphone earbud style he...</td>\n",
              "      <td>5.0</td>\n",
              "      <td>Thin and light, without compromising on sound ...</td>\n",
              "      <td>1405382400</td>\n",
              "      <td>2014-07-15</td>\n",
              "    </tr>\n",
              "    <tr>\n",
              "      <th>1689185</th>\n",
              "      <td>A25C2M3QF9G7OQ</td>\n",
              "      <td>B00LGQ6HL8</td>\n",
              "      <td>Comdet</td>\n",
              "      <td>[0, 0]</td>\n",
              "      <td>im big fan brainwavz actually headphone yet di...</td>\n",
              "      <td>5.0</td>\n",
              "      <td>Same form factor and durability as the S1 with...</td>\n",
              "      <td>1405555200</td>\n",
              "      <td>2014-07-17</td>\n",
              "    </tr>\n",
              "    <tr>\n",
              "      <th>1689186</th>\n",
              "      <td>A1E1LEVQ9VQNK</td>\n",
              "      <td>B00LGQ6HL8</td>\n",
              "      <td>J. Chambers</td>\n",
              "      <td>[0, 0]</td>\n",
              "      <td>used thebrainwavz ear headphone outstanding au...</td>\n",
              "      <td>5.0</td>\n",
              "      <td>Superb audio quality in a very comfortable set...</td>\n",
              "      <td>1405641600</td>\n",
              "      <td>2014-07-18</td>\n",
              "    </tr>\n",
              "    <tr>\n",
              "      <th>1689187</th>\n",
              "      <td>A2NYK9KWFMJV4Y</td>\n",
              "      <td>B00LGQ6HL8</td>\n",
              "      <td>Mike Tarrani \"Jazz Drummer\"</td>\n",
              "      <td>[0, 0]</td>\n",
              "      <td>normally receive review sample thorough evalua...</td>\n",
              "      <td>5.0</td>\n",
              "      <td>Exceptional sound</td>\n",
              "      <td>1405209600</td>\n",
              "      <td>2014-07-13</td>\n",
              "    </tr>\n",
              "  </tbody>\n",
              "</table>\n",
              "<p>1689188 rows × 9 columns</p>\n",
              "</div>"
            ],
            "text/plain": [
              "             reviewerID        asin  ... unixReviewTime review_time\n",
              "0         AO94DHGC771SJ  0528881469  ...     1370131200  2013-06-02\n",
              "1         AMO214LNFCEI4  0528881469  ...     1290643200  2010-11-25\n",
              "2        A3N7T0DY83Y4IG  0528881469  ...     1283990400  2010-09-09\n",
              "3        A1H8PY3QHMQQA0  0528881469  ...     1290556800  2010-11-24\n",
              "4        A24EV6RXELQZ63  0528881469  ...     1317254400  2011-09-29\n",
              "...                 ...         ...  ...            ...         ...\n",
              "1689183  A34BZM6S9L7QI4  B00LGQ6HL8  ...     1405555200  2014-07-17\n",
              "1689184  A1G650TTTHEAL5  B00LGQ6HL8  ...     1405382400  2014-07-15\n",
              "1689185  A25C2M3QF9G7OQ  B00LGQ6HL8  ...     1405555200  2014-07-17\n",
              "1689186   A1E1LEVQ9VQNK  B00LGQ6HL8  ...     1405641600  2014-07-18\n",
              "1689187  A2NYK9KWFMJV4Y  B00LGQ6HL8  ...     1405209600  2014-07-13\n",
              "\n",
              "[1689188 rows x 9 columns]"
            ]
          },
          "metadata": {},
          "execution_count": 44
        }
      ]
    },
    {
      "cell_type": "markdown",
      "metadata": {
        "id": "wW9acyLwGeOc"
      },
      "source": [
        "Summary Statistics"
      ]
    },
    {
      "cell_type": "code",
      "metadata": {
        "id": "D9mdndTiGdjQ",
        "outputId": "619202b6-9d13-473f-ec13-a88a52e5d546",
        "colab": {
          "base_uri": "https://localhost:8080/"
        }
      },
      "source": [
        "# Statistics of non-numeric variables\n",
        "\n",
        "# Number of unique customers\n",
        "print('\\nNumber of unique customers : {}'.format(len(df['reviewerID'].unique())))\n",
        "      \n",
        "# Number of unique products\n",
        "print('\\nNumber of unique products : {}'.format(len(df['asin'].unique())))\n",
        "      \n",
        "# Review number per unique customer\n",
        "print('\\nReview per customer: {}'.format((len(df)/len(df['reviewerID'].unique()))))      \n",
        "\n",
        "# Review number per unique product \n",
        "print('\\nReview per product: {}'.format((len(df)/len(df['asin'].unique()))))"
      ],
      "execution_count": 64,
      "outputs": [
        {
          "output_type": "stream",
          "name": "stdout",
          "text": [
            "\n",
            "Number of unique customers : 192402\n",
            "\n",
            "Number of unique products : 63001\n",
            "\n",
            "Review per customer: 8.77373416076756\n",
            "\n",
            "Review per product: 26.79455881652672\n"
          ]
        }
      ]
    },
    {
      "cell_type": "markdown",
      "metadata": {
        "id": "oPxBXyIuvCQA"
      },
      "source": [
        "## Exploratory Data Analysis"
      ]
    },
    {
      "cell_type": "code",
      "metadata": {
        "id": "DIuIrVDTJ4Ud",
        "outputId": "701d864d-91c0-4178-e58f-296b6b9fd059",
        "colab": {
          "base_uri": "https://localhost:8080/",
          "height": 299
        }
      },
      "source": [
        "df['overall'].value_counts().sort_index().plot(kind=\"bar\")"
      ],
      "execution_count": 13,
      "outputs": [
        {
          "output_type": "execute_result",
          "data": {
            "text/plain": [
              "<matplotlib.axes._subplots.AxesSubplot at 0x7f4890f45810>"
            ]
          },
          "metadata": {},
          "execution_count": 13
        },
        {
          "output_type": "display_data",
          "data": {
            "image/png": "[encoded data removed]",
            "text/plain": [
              "<Figure size 432x288 with 1 Axes>"
            ]
          },
          "metadata": {
            "needs_background": "light"
          }
        }
      ]
    },
    {
      "cell_type": "markdown",
      "metadata": {
        "id": "_WQtlQZAvWLI"
      },
      "source": [
        "## Model Development"
      ]
    },
    {
      "cell_type": "markdown",
      "metadata": {
        "id": "C_ruMXxxvbMm"
      },
      "source": [
        "Split data into train and test set"
      ]
    },
    {
      "cell_type": "code",
      "metadata": {
        "id": "SC9-CmWDJ4Ue"
      },
      "source": [
        "X = df['reviewText']\n",
        "y = df['overall']\n",
        "\n",
        "X_train, X_val, y_train, y_val = train_test_split(X, y, test_size=0.25, random_state=0)"
      ],
      "execution_count": null,
      "outputs": []
    },
    {
      "cell_type": "code",
      "metadata": {
        "id": "6T1ZRmPbJ4Ue",
        "outputId": "853b1b1a-cdce-48bc-9716-84f984c48f77"
      },
      "source": [
        "from transformers import BertTokenizer\n",
        "tokenizer = BertTokenizer.from_pretrained('bert-base-cased')\n"
      ],
      "execution_count": null,
      "outputs": [
        {
          "ename": "ModuleNotFoundError",
          "evalue": "No module named 'transformers'",
          "output_type": "error",
          "traceback": [
            "\u001b[1;31m---------------------------------------------------------------------------\u001b[0m",
            "\u001b[1;31mModuleNotFoundError\u001b[0m                       Traceback (most recent call last)",
            "\u001b[1;32m<ipython-input-9-369fbb5b6468>\u001b[0m in \u001b[0;36m<module>\u001b[1;34m\u001b[0m\n\u001b[1;32m----> 1\u001b[1;33m \u001b[1;32mfrom\u001b[0m \u001b[0mtransformers\u001b[0m \u001b[1;32mimport\u001b[0m \u001b[0mBertTokenizer\u001b[0m\u001b[1;33m\u001b[0m\u001b[1;33m\u001b[0m\u001b[0m\n\u001b[0m\u001b[0;32m      2\u001b[0m \u001b[0mtokenizer\u001b[0m \u001b[1;33m=\u001b[0m \u001b[0mBertTokenizer\u001b[0m\u001b[1;33m.\u001b[0m\u001b[0mfrom_pretrained\u001b[0m\u001b[1;33m(\u001b[0m\u001b[1;34m'bert-base-cased'\u001b[0m\u001b[1;33m)\u001b[0m\u001b[1;33m\u001b[0m\u001b[1;33m\u001b[0m\u001b[0m\n",
            "\u001b[1;31mModuleNotFoundError\u001b[0m: No module named 'transformers'"
          ]
        }
      ]
    },
    {
      "cell_type": "code",
      "metadata": {
        "id": "l8f2UvoJJ4Uf"
      },
      "source": [
        ""
      ],
      "execution_count": null,
      "outputs": []
    }
  ]
}