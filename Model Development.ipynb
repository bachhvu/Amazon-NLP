{
  "nbformat": 4,
  "nbformat_minor": 0,
  "metadata": {
    "kernelspec": {
      "display_name": "Python 3",
      "language": "python",
      "name": "python3"
    },
    "language_info": {
      "codemirror_mode": {
        "name": "ipython",
        "version": 3
      },
      "file_extension": ".py",
      "mimetype": "text/x-python",
      "name": "python",
      "nbconvert_exporter": "python",
      "pygments_lexer": "ipython3",
      "version": "3.8.5"
    },
    "colab": {
      "name": "Model Development.ipynb",
      "provenance": [],
      "toc_visible": true
    },
    "accelerator": "GPU"
  },
  "cells": [
    {
      "cell_type": "markdown",
      "metadata": {
        "id": "vBXR4NgFYOZg"
      },
      "source": [
        "[![Open In Colab](https://colab.research.google.com/assets/colab-badge.svg)](https://colab.research.google.com/github/bachhvu/Amazon-NLP/blob/main/Model%20Development.ipynb)\n",
        "\n"
      ]
    },
    {
      "cell_type": "code",
      "metadata": {
        "id": "yb_78gZxCZbO",
        "colab": {
          "base_uri": "https://localhost:8080/"
        },
        "outputId": "8294d42d-88a9-4fc8-a74b-5d1832bd5fb9"
      },
      "source": [
        "from google.colab import drive\n",
        "drive.mount('/content/drive')"
      ],
      "execution_count": 1,
      "outputs": [
        {
          "output_type": "stream",
          "name": "stdout",
          "text": [
            "Mounted at /content/drive\n"
          ]
        }
      ]
    },
    {
      "cell_type": "markdown",
      "metadata": {
        "id": "5mxhaDxQJ4UU"
      },
      "source": [
        "# Load Preprocessed Data"
      ]
    },
    {
      "cell_type": "code",
      "metadata": {
        "id": "GfUuuJ2MJ4Ua"
      },
      "source": [
        "import pandas as pd\n",
        "import numpy as np\n",
        "import matplotlib.pyplot as plt\n",
        "import seaborn as sns\n",
        "import os\n",
        "import shutil\n",
        "from sklearn.feature_extraction.text import TfidfVectorizer\n",
        "from sklearn.model_selection import train_test_split, StratifiedKFold, GridSearchCV\n",
        "from sklearn.svm import LinearSVC, SVC\n",
        "from sklearn.linear_model import LogisticRegression\n",
        "from sklearn.metrics import classification_report, confusion_matrix\n",
        "from sklearn.preprocessing import LabelEncoder\n",
        "from tensorflow.keras.preprocessing.text import Tokenizer\n",
        "from tensorflow.keras.preprocessing.sequence import pad_sequences\n",
        "from tensorflow.keras.layers import Activation, Dense, Dropout, Embedding, Flatten, LSTM, SpatialDropout1D, Bidirectional\n",
        "from tensorflow.keras.models import Sequential\n",
        "from tensorflow.keras.optimizers import Adam\n",
        "from tensorflow.keras.callbacks import ReduceLROnPlateau, EarlyStopping\n",
        "from tensorflow.keras.metrics import AUC\n",
        "import gensim\n",
        "import itertools\n",
        "from sklearn.utils import class_weight\n",
        "import pickle\n",
        "from sklearn.feature_selection import chi2\n",
        "from sklearn.feature_selection import SelectKBest"
      ],
      "execution_count": 1,
      "outputs": []
    },
    {
      "cell_type": "code",
      "metadata": {
        "id": "sB1xxDFXJ4Ub",
        "colab": {
          "base_uri": "https://localhost:8080/",
          "height": 652
        },
        "outputId": "4bf94a15-62c7-4334-c0df-88b33e3056a5"
      },
      "source": [
        "df = pd.read_csv('/content/drive/MyDrive/Dataset/Electronics_processed.csv', index_col=0)\n",
        "df"
      ],
      "execution_count": 2,
      "outputs": [
        {
          "output_type": "stream",
          "name": "stderr",
          "text": [
            "/usr/local/lib/python3.7/dist-packages/numpy/lib/arraysetops.py:580: FutureWarning: elementwise comparison failed; returning scalar instead, but in the future will perform elementwise comparison\n",
            "  mask |= (ar1 == a)\n"
          ]
        },
        {
          "output_type": "execute_result",
          "data": {
            "text/html": [
              "<div>\n",
              "<style scoped>\n",
              "    .dataframe tbody tr th:only-of-type {\n",
              "        vertical-align: middle;\n",
              "    }\n",
              "\n",
              "    .dataframe tbody tr th {\n",
              "        vertical-align: top;\n",
              "    }\n",
              "\n",
              "    .dataframe thead th {\n",
              "        text-align: right;\n",
              "    }\n",
              "</style>\n",
              "<table border=\"1\" class=\"dataframe\">\n",
              "  <thead>\n",
              "    <tr style=\"text-align: right;\">\n",
              "      <th></th>\n",
              "      <th>reviewerID</th>\n",
              "      <th>asin</th>\n",
              "      <th>reviewerName</th>\n",
              "      <th>helpful</th>\n",
              "      <th>overall</th>\n",
              "      <th>unixReviewTime</th>\n",
              "      <th>review_text</th>\n",
              "      <th>review_time</th>\n",
              "    </tr>\n",
              "  </thead>\n",
              "  <tbody>\n",
              "    <tr>\n",
              "      <th>0</th>\n",
              "      <td>AO94DHGC771SJ</td>\n",
              "      <td>0528881469</td>\n",
              "      <td>amazdnu</td>\n",
              "      <td>[0, 0]</td>\n",
              "      <td>5.0</td>\n",
              "      <td>1370131200</td>\n",
              "      <td>got ta gps got gps husband otr road trucker im...</td>\n",
              "      <td>2013-06-02</td>\n",
              "    </tr>\n",
              "    <tr>\n",
              "      <th>1</th>\n",
              "      <td>AMO214LNFCEI4</td>\n",
              "      <td>0528881469</td>\n",
              "      <td>Amazon Customer</td>\n",
              "      <td>[12, 15]</td>\n",
              "      <td>1.0</td>\n",
              "      <td>1290643200</td>\n",
              "      <td>disappointed professional otr truck driver bou...</td>\n",
              "      <td>2010-11-25</td>\n",
              "    </tr>\n",
              "    <tr>\n",
              "      <th>2</th>\n",
              "      <td>A3N7T0DY83Y4IG</td>\n",
              "      <td>0528881469</td>\n",
              "      <td>C. A. Freeman</td>\n",
              "      <td>[43, 45]</td>\n",
              "      <td>3.0</td>\n",
              "      <td>1283990400</td>\n",
              "      <td>impression well say unit truck four day prior ...</td>\n",
              "      <td>2010-09-09</td>\n",
              "    </tr>\n",
              "    <tr>\n",
              "      <th>3</th>\n",
              "      <td>A1H8PY3QHMQQA0</td>\n",
              "      <td>0528881469</td>\n",
              "      <td>Dave M. Shaw \"mack dave\"</td>\n",
              "      <td>[9, 10]</td>\n",
              "      <td>2.0</td>\n",
              "      <td>1290556800</td>\n",
              "      <td>great grafics poor gps going write long review...</td>\n",
              "      <td>2010-11-24</td>\n",
              "    </tr>\n",
              "    <tr>\n",
              "      <th>4</th>\n",
              "      <td>A24EV6RXELQZ63</td>\n",
              "      <td>0528881469</td>\n",
              "      <td>Wayne Smith</td>\n",
              "      <td>[0, 0]</td>\n",
              "      <td>1.0</td>\n",
              "      <td>1317254400</td>\n",
              "      <td>major issue excuse support mine year got try r...</td>\n",
              "      <td>2011-09-29</td>\n",
              "    </tr>\n",
              "    <tr>\n",
              "      <th>...</th>\n",
              "      <td>...</td>\n",
              "      <td>...</td>\n",
              "      <td>...</td>\n",
              "      <td>...</td>\n",
              "      <td>...</td>\n",
              "      <td>...</td>\n",
              "      <td>...</td>\n",
              "      <td>...</td>\n",
              "    </tr>\n",
              "    <tr>\n",
              "      <th>1689183</th>\n",
              "      <td>A34BZM6S9L7QI4</td>\n",
              "      <td>B00LGQ6HL8</td>\n",
              "      <td>Candy Cane \"Is it just me?\"</td>\n",
              "      <td>[1, 1]</td>\n",
              "      <td>5.0</td>\n",
              "      <td>1405555200</td>\n",
              "      <td>boom pop pow deliver burned listening hour sin...</td>\n",
              "      <td>2014-07-17</td>\n",
              "    </tr>\n",
              "    <tr>\n",
              "      <th>1689184</th>\n",
              "      <td>A1G650TTTHEAL5</td>\n",
              "      <td>B00LGQ6HL8</td>\n",
              "      <td>Charles Spanky \"Zumina Reviews\"</td>\n",
              "      <td>[0, 0]</td>\n",
              "      <td>5.0</td>\n",
              "      <td>1405382400</td>\n",
              "      <td>thin light without compromising sound quality ...</td>\n",
              "      <td>2014-07-15</td>\n",
              "    </tr>\n",
              "    <tr>\n",
              "      <th>1689185</th>\n",
              "      <td>A25C2M3QF9G7OQ</td>\n",
              "      <td>B00LGQ6HL8</td>\n",
              "      <td>Comdet</td>\n",
              "      <td>[0, 0]</td>\n",
              "      <td>5.0</td>\n",
              "      <td>1405555200</td>\n",
              "      <td>form factor durability better sound quality im...</td>\n",
              "      <td>2014-07-17</td>\n",
              "    </tr>\n",
              "    <tr>\n",
              "      <th>1689186</th>\n",
              "      <td>A1E1LEVQ9VQNK</td>\n",
              "      <td>B00LGQ6HL8</td>\n",
              "      <td>J. Chambers</td>\n",
              "      <td>[0, 0]</td>\n",
              "      <td>5.0</td>\n",
              "      <td>1405641600</td>\n",
              "      <td>superb audio quality comfortable set earphone ...</td>\n",
              "      <td>2014-07-18</td>\n",
              "    </tr>\n",
              "    <tr>\n",
              "      <th>1689187</th>\n",
              "      <td>A2NYK9KWFMJV4Y</td>\n",
              "      <td>B00LGQ6HL8</td>\n",
              "      <td>Mike Tarrani \"Jazz Drummer\"</td>\n",
              "      <td>[0, 0]</td>\n",
              "      <td>5.0</td>\n",
              "      <td>1405209600</td>\n",
              "      <td>exceptional sound normally receive review samp...</td>\n",
              "      <td>2014-07-13</td>\n",
              "    </tr>\n",
              "  </tbody>\n",
              "</table>\n",
              "<p>1689186 rows × 8 columns</p>\n",
              "</div>"
            ],
            "text/plain": [
              "             reviewerID  ... review_time\n",
              "0         AO94DHGC771SJ  ...  2013-06-02\n",
              "1         AMO214LNFCEI4  ...  2010-11-25\n",
              "2        A3N7T0DY83Y4IG  ...  2010-09-09\n",
              "3        A1H8PY3QHMQQA0  ...  2010-11-24\n",
              "4        A24EV6RXELQZ63  ...  2011-09-29\n",
              "...                 ...  ...         ...\n",
              "1689183  A34BZM6S9L7QI4  ...  2014-07-17\n",
              "1689184  A1G650TTTHEAL5  ...  2014-07-15\n",
              "1689185  A25C2M3QF9G7OQ  ...  2014-07-17\n",
              "1689186   A1E1LEVQ9VQNK  ...  2014-07-18\n",
              "1689187  A2NYK9KWFMJV4Y  ...  2014-07-13\n",
              "\n",
              "[1689186 rows x 8 columns]"
            ]
          },
          "metadata": {},
          "execution_count": 2
        }
      ]
    },
    {
      "cell_type": "code",
      "metadata": {
        "id": "sTeZhh30se32"
      },
      "source": [
        "df = df.sample(n = 10000, random_state=42)"
      ],
      "execution_count": 3,
      "outputs": []
    },
    {
      "cell_type": "code",
      "metadata": {
        "id": "RfQ9D6VcVHOj"
      },
      "source": [
        "df.to_csv('/content/drive/MyDrive/Dataset/sample_data.csv')"
      ],
      "execution_count": null,
      "outputs": []
    },
    {
      "cell_type": "markdown",
      "metadata": {
        "id": "t5imDMVWx-Ya"
      },
      "source": [
        "# Extra Data Wrangling"
      ]
    },
    {
      "cell_type": "code",
      "metadata": {
        "colab": {
          "base_uri": "https://localhost:8080/",
          "height": 0
        },
        "id": "nQ9K3Jl-hDL3",
        "outputId": "bf405c5a-c34e-4058-d185-5973164770c7"
      },
      "source": [
        "df['rating_class'] = df['overall'].apply(lambda x: 0 if x < 3 else (2 if x == 3 else 1))\n",
        "df = df[(df[['rating_class']] != 2).all(axis=1)]\n",
        "df"
      ],
      "execution_count": 4,
      "outputs": [
        {
          "output_type": "execute_result",
          "data": {
            "text/html": [
              "<div>\n",
              "<style scoped>\n",
              "    .dataframe tbody tr th:only-of-type {\n",
              "        vertical-align: middle;\n",
              "    }\n",
              "\n",
              "    .dataframe tbody tr th {\n",
              "        vertical-align: top;\n",
              "    }\n",
              "\n",
              "    .dataframe thead th {\n",
              "        text-align: right;\n",
              "    }\n",
              "</style>\n",
              "<table border=\"1\" class=\"dataframe\">\n",
              "  <thead>\n",
              "    <tr style=\"text-align: right;\">\n",
              "      <th></th>\n",
              "      <th>reviewerID</th>\n",
              "      <th>asin</th>\n",
              "      <th>reviewerName</th>\n",
              "      <th>helpful</th>\n",
              "      <th>overall</th>\n",
              "      <th>unixReviewTime</th>\n",
              "      <th>review_text</th>\n",
              "      <th>review_time</th>\n",
              "      <th>rating_class</th>\n",
              "    </tr>\n",
              "  </thead>\n",
              "  <tbody>\n",
              "    <tr>\n",
              "      <th>1360852</th>\n",
              "      <td>AVCMFK6FBAXO3</td>\n",
              "      <td>B0083C8B30</td>\n",
              "      <td>Edward Jasudowich \"Edsgolfin\"</td>\n",
              "      <td>[1, 1]</td>\n",
              "      <td>5.0</td>\n",
              "      <td>1358985600</td>\n",
              "      <td>switch pioneer simplifed life improved home th...</td>\n",
              "      <td>2013-01-24</td>\n",
              "      <td>1</td>\n",
              "    </tr>\n",
              "    <tr>\n",
              "      <th>1672835</th>\n",
              "      <td>A3M64BWMQO6JAL</td>\n",
              "      <td>B00GTGETFG</td>\n",
              "      <td>Amazon Customer</td>\n",
              "      <td>[0, 0]</td>\n",
              "      <td>5.0</td>\n",
              "      <td>1400630400</td>\n",
              "      <td>power demand lot power needed use charge three...</td>\n",
              "      <td>2014-05-21</td>\n",
              "      <td>1</td>\n",
              "    </tr>\n",
              "    <tr>\n",
              "      <th>1626762</th>\n",
              "      <td>A1S9FUIB8R4ZO7</td>\n",
              "      <td>B00DTPYRKC</td>\n",
              "      <td>L T.</td>\n",
              "      <td>[0, 0]</td>\n",
              "      <td>5.0</td>\n",
              "      <td>1387843200</td>\n",
              "      <td>replacement hdd macbook pro bought ssd replace...</td>\n",
              "      <td>2013-12-24</td>\n",
              "      <td>1</td>\n",
              "    </tr>\n",
              "    <tr>\n",
              "      <th>62247</th>\n",
              "      <td>A1V7MCPGTUJ6YY</td>\n",
              "      <td>B00009EHJV</td>\n",
              "      <td>Bud \"Mac user\"</td>\n",
              "      <td>[0, 0]</td>\n",
              "      <td>5.0</td>\n",
              "      <td>1303430400</td>\n",
              "      <td>work great mac vmware fusion installed mac usi...</td>\n",
              "      <td>2011-04-22</td>\n",
              "      <td>1</td>\n",
              "    </tr>\n",
              "    <tr>\n",
              "      <th>568677</th>\n",
              "      <td>A3Q2XTSWJBGB89</td>\n",
              "      <td>B0027JRX52</td>\n",
              "      <td>Marcos</td>\n",
              "      <td>[0, 0]</td>\n",
              "      <td>4.0</td>\n",
              "      <td>1347667200</td>\n",
              "      <td>good solution carry necessary gear occasion wa...</td>\n",
              "      <td>2012-09-15</td>\n",
              "      <td>1</td>\n",
              "    </tr>\n",
              "    <tr>\n",
              "      <th>...</th>\n",
              "      <td>...</td>\n",
              "      <td>...</td>\n",
              "      <td>...</td>\n",
              "      <td>...</td>\n",
              "      <td>...</td>\n",
              "      <td>...</td>\n",
              "      <td>...</td>\n",
              "      <td>...</td>\n",
              "      <td>...</td>\n",
              "    </tr>\n",
              "    <tr>\n",
              "      <th>595429</th>\n",
              "      <td>AB9XCP6EV8YIP</td>\n",
              "      <td>B002G1YPH0</td>\n",
              "      <td>G L Allen</td>\n",
              "      <td>[0, 0]</td>\n",
              "      <td>2.0</td>\n",
              "      <td>1386028800</td>\n",
              "      <td>large could fit tower tried using huge difficu...</td>\n",
              "      <td>2013-12-03</td>\n",
              "      <td>0</td>\n",
              "    </tr>\n",
              "    <tr>\n",
              "      <th>1352736</th>\n",
              "      <td>A4B4AIBQ9MZHS</td>\n",
              "      <td>B0081UUYWA</td>\n",
              "      <td>Benjamin Morris \"Cakeisalye\"</td>\n",
              "      <td>[0, 0]</td>\n",
              "      <td>5.0</td>\n",
              "      <td>1381017600</td>\n",
              "      <td>great size price got tv steal cyber monday tv ...</td>\n",
              "      <td>2013-10-06</td>\n",
              "      <td>1</td>\n",
              "    </tr>\n",
              "    <tr>\n",
              "      <th>152415</th>\n",
              "      <td>A21JUL5XFMS8R</td>\n",
              "      <td>B0009F3SGE</td>\n",
              "      <td>Rob \"ChaRob\"</td>\n",
              "      <td>[0, 0]</td>\n",
              "      <td>5.0</td>\n",
              "      <td>1176422400</td>\n",
              "      <td>awesome bought little guy year ago use gym gre...</td>\n",
              "      <td>2007-04-13</td>\n",
              "      <td>1</td>\n",
              "    </tr>\n",
              "    <tr>\n",
              "      <th>551823</th>\n",
              "      <td>A3BWZ0W25CK3LE</td>\n",
              "      <td>B001XURP7W</td>\n",
              "      <td>andreoso</td>\n",
              "      <td>[15, 16]</td>\n",
              "      <td>1.0</td>\n",
              "      <td>1349049600</td>\n",
              "      <td>recommend flash drive cruzer worked one week d...</td>\n",
              "      <td>2012-10-01</td>\n",
              "      <td>0</td>\n",
              "    </tr>\n",
              "    <tr>\n",
              "      <th>488929</th>\n",
              "      <td>A1T8KMQUAFEC7X</td>\n",
              "      <td>B001LL5JDA</td>\n",
              "      <td>Paul Killian</td>\n",
              "      <td>[1, 1]</td>\n",
              "      <td>5.0</td>\n",
              "      <td>1337385600</td>\n",
              "      <td>great choice use inch tv ability pull tv wall ...</td>\n",
              "      <td>2012-05-19</td>\n",
              "      <td>1</td>\n",
              "    </tr>\n",
              "  </tbody>\n",
              "</table>\n",
              "<p>9124 rows × 9 columns</p>\n",
              "</div>"
            ],
            "text/plain": [
              "             reviewerID        asin  ... review_time rating_class\n",
              "1360852   AVCMFK6FBAXO3  B0083C8B30  ...  2013-01-24            1\n",
              "1672835  A3M64BWMQO6JAL  B00GTGETFG  ...  2014-05-21            1\n",
              "1626762  A1S9FUIB8R4ZO7  B00DTPYRKC  ...  2013-12-24            1\n",
              "62247    A1V7MCPGTUJ6YY  B00009EHJV  ...  2011-04-22            1\n",
              "568677   A3Q2XTSWJBGB89  B0027JRX52  ...  2012-09-15            1\n",
              "...                 ...         ...  ...         ...          ...\n",
              "595429    AB9XCP6EV8YIP  B002G1YPH0  ...  2013-12-03            0\n",
              "1352736   A4B4AIBQ9MZHS  B0081UUYWA  ...  2013-10-06            1\n",
              "152415    A21JUL5XFMS8R  B0009F3SGE  ...  2007-04-13            1\n",
              "551823   A3BWZ0W25CK3LE  B001XURP7W  ...  2012-10-01            0\n",
              "488929   A1T8KMQUAFEC7X  B001LL5JDA  ...  2012-05-19            1\n",
              "\n",
              "[9124 rows x 9 columns]"
            ]
          },
          "metadata": {},
          "execution_count": 4
        }
      ]
    },
    {
      "cell_type": "code",
      "metadata": {
        "colab": {
          "base_uri": "https://localhost:8080/"
        },
        "id": "3OyRNynCgr2b",
        "outputId": "c4004ac2-6208-458a-d7ba-76bb3b05a952"
      },
      "source": [
        "##########################################\n",
        "## Classify ratings as good\n",
        "##########################################\n",
        "\n",
        "good_rate = len(df[df['rating_class'] == 1])\n",
        "bad_rate = len(df[df['rating_class'] == 0])\n",
        "\n",
        "# Printing rates and their total numbers\n",
        "print ('Good ratings : {} reviews for products'.format(good_rate))\n",
        "print ('Bad ratings : {} reviews for products'.format(bad_rate))"
      ],
      "execution_count": 5,
      "outputs": [
        {
          "output_type": "stream",
          "name": "stdout",
          "text": [
            "Good ratings : 8024 reviews for products\n",
            "Bad ratings : 1100 reviews for products\n"
          ]
        }
      ]
    },
    {
      "cell_type": "code",
      "metadata": {
        "id": "4ZOo8LhWPU89",
        "outputId": "d61763d5-18dc-4947-f8a0-d5636e284798",
        "colab": {
          "base_uri": "https://localhost:8080/"
        }
      },
      "source": [
        "df['review_time'] = pd.to_datetime(df['review_time'], format='%Y/%m/%d')"
      ],
      "execution_count": 6,
      "outputs": [
        {
          "output_type": "stream",
          "name": "stderr",
          "text": [
            "/usr/local/lib/python3.7/dist-packages/ipykernel_launcher.py:1: SettingWithCopyWarning: \n",
            "A value is trying to be set on a copy of a slice from a DataFrame.\n",
            "Try using .loc[row_indexer,col_indexer] = value instead\n",
            "\n",
            "See the caveats in the documentation: https://pandas.pydata.org/pandas-docs/stable/user_guide/indexing.html#returning-a-view-versus-a-copy\n",
            "  \"\"\"Entry point for launching an IPython kernel.\n"
          ]
        }
      ]
    },
    {
      "cell_type": "code",
      "metadata": {
        "id": "i6sEc9pSVRgJ"
      },
      "source": [
        "df = df.dropna(subset=['review_text'])"
      ],
      "execution_count": 7,
      "outputs": []
    },
    {
      "cell_type": "code",
      "metadata": {
        "colab": {
          "base_uri": "https://localhost:8080/"
        },
        "id": "0O9kwDa3VUeR",
        "outputId": "73e19e33-8e9c-4e7f-8de6-5619aafa3e1c"
      },
      "source": [
        "df['review_text'].isnull().values.any()"
      ],
      "execution_count": 8,
      "outputs": [
        {
          "output_type": "execute_result",
          "data": {
            "text/plain": [
              "False"
            ]
          },
          "metadata": {},
          "execution_count": 8
        }
      ]
    },
    {
      "cell_type": "markdown",
      "metadata": {
        "id": "oPxBXyIuvCQA"
      },
      "source": [
        "# Exploratory Data Analysis"
      ]
    },
    {
      "cell_type": "markdown",
      "metadata": {
        "id": "wW9acyLwGeOc"
      },
      "source": [
        "Summary Statistics"
      ]
    },
    {
      "cell_type": "code",
      "metadata": {
        "id": "D9mdndTiGdjQ",
        "colab": {
          "base_uri": "https://localhost:8080/"
        },
        "outputId": "800e85c4-a654-4b2a-e702-1b263d56a757"
      },
      "source": [
        "# Statistics of non-numeric variables\n",
        "\n",
        "# Number of unique customers\n",
        "print('\\nNumber of unique customers : {}'.format(len(df['reviewerID'].unique())))\n",
        "      \n",
        "# Number of unique products\n",
        "print('\\nNumber of unique products : {}'.format(len(df['asin'].unique())))\n",
        "      \n",
        "# Review number per unique customer\n",
        "print('\\nReview per customer: {}'.format((len(df)/len(df['reviewerID'].unique()))))      \n",
        "\n",
        "# Review number per unique product \n",
        "print('\\nReview per product: {}'.format((len(df)/len(df['asin'].unique()))))"
      ],
      "execution_count": 10,
      "outputs": [
        {
          "output_type": "stream",
          "name": "stdout",
          "text": [
            "\n",
            "Number of unique customers : 8774\n",
            "\n",
            "Number of unique products : 6742\n",
            "\n",
            "Review per customer: 1.039890585821746\n",
            "\n",
            "Review per product: 1.3533076238504895\n"
          ]
        }
      ]
    },
    {
      "cell_type": "code",
      "metadata": {
        "id": "DIuIrVDTJ4Ud",
        "outputId": "8e3c4b72-7803-4532-f2ce-f83a87f3d936",
        "colab": {
          "base_uri": "https://localhost:8080/",
          "height": 391
        }
      },
      "source": [
        "plt.figure(figsize=(8,6))\n",
        "df['overall'].value_counts().sort_index().plot(kind=\"barh\")"
      ],
      "execution_count": null,
      "outputs": [
        {
          "output_type": "execute_result",
          "data": {
            "text/plain": [
              "<matplotlib.axes._subplots.AxesSubplot at 0x7efdfa9f2fd0>"
            ]
          },
          "metadata": {},
          "execution_count": 12
        },
        {
          "output_type": "display_data",
          "data": {
            "image/png": "[encoded data removed]",
            "text/plain": [
              "<Figure size 576x432 with 1 Axes>"
            ]
          },
          "metadata": {
            "needs_background": "light"
          }
        }
      ]
    },
    {
      "cell_type": "code",
      "metadata": {
        "id": "Cy8CVkWUdwmB",
        "outputId": "a2bef0a7-6d7f-4530-ee99-98f4a3a0f795",
        "colab": {
          "base_uri": "https://localhost:8080/",
          "height": 374
        }
      },
      "source": [
        "plt.figure(figsize=(8,6))\n",
        "plt.pie(df['overall'].value_counts(), labels = df['overall'].value_counts().index, autopct='%1.0f%%')\n",
        "plt.legend()"
      ],
      "execution_count": null,
      "outputs": [
        {
          "output_type": "execute_result",
          "data": {
            "text/plain": [
              "<matplotlib.legend.Legend at 0x7efdfa944d90>"
            ]
          },
          "metadata": {},
          "execution_count": 13
        },
        {
          "output_type": "display_data",
          "data": {
            "image/png": "[encoded data removed]",
            "text/plain": [
              "<Figure size 576x432 with 1 Axes>"
            ]
          },
          "metadata": {}
        }
      ]
    },
    {
      "cell_type": "markdown",
      "metadata": {
        "id": "c_ZlIMnBRMID"
      },
      "source": [
        "Plot number of review per day"
      ]
    },
    {
      "cell_type": "code",
      "metadata": {
        "id": "JUmL6ufFWasF"
      },
      "source": [
        "from matplotlib.dates import MonthLocator, YearLocator, DateFormatter\n",
        "import matplotlib.ticker as ticker\n",
        "from datetime import datetime, timedelta"
      ],
      "execution_count": null,
      "outputs": []
    },
    {
      "cell_type": "code",
      "metadata": {
        "id": "hB6XcHigOz32"
      },
      "source": [
        "fig, ax = plt.subplots(figsize=(16,9))\n",
        "fig.patch.set_facecolor('#E8E5DA')\n",
        "\n",
        "ax.plot(df.groupby(pd.Grouper(key='review_time', freq='M')).count().sort_index().index, df.groupby(pd.Grouper(key='review_time', freq='M')).count()['review_text'])\n",
        "ax.xaxis.set_major_locator(YearLocator())\n",
        "ax.xaxis.set_major_formatter(DateFormatter('%Y'))\n",
        "ax.xaxis.set_tick_params(rotation=45)\n",
        "ax.set_xlabel(\"Year\", fontsize=10)\n",
        "ax.set_ylabel(\"Number of Reviews\", fontsize=10)\n",
        "ax.grid()"
      ],
      "execution_count": null,
      "outputs": []
    },
    {
      "cell_type": "markdown",
      "metadata": {
        "id": "vbY3k2_eRO2Q"
      },
      "source": [
        "Plot number of unique customer leaving review per month"
      ]
    },
    {
      "cell_type": "code",
      "metadata": {
        "id": "kPlNqxP2vWiT"
      },
      "source": [
        "fig, ax = plt.subplots(figsize=(16,9))\n",
        "fig.patch.set_facecolor('#E8E5DA')\n",
        "\n",
        "ax.plot(df.groupby(pd.Grouper(key='review_time', freq='M')).count().sort_index().index, df.groupby(pd.Grouper(key='review_time', freq='M')).count()['reviewerID'])\n",
        "ax.xaxis.set_major_locator(YearLocator())\n",
        "ax.xaxis.set_major_formatter(DateFormatter('%Y'))\n",
        "ax.xaxis.set_tick_params(rotation=45)\n",
        "ax.set_xlabel(\"Year\", fontsize=10)\n",
        "ax.set_ylabel(\"Number of Reviewers\", fontsize=10)\n",
        "ax.grid()"
      ],
      "execution_count": null,
      "outputs": []
    },
    {
      "cell_type": "markdown",
      "metadata": {
        "id": "1P2nv6qWRVCp"
      },
      "source": [
        "Plot number of product reviewed per month"
      ]
    },
    {
      "cell_type": "code",
      "metadata": {
        "id": "zXzKnkhK6SGY"
      },
      "source": [
        "fig, ax = plt.subplots(figsize=(16,9))\n",
        "ax.plot(df.groupby(pd.Grouper(key='review_time', freq='M')).count().sort_index().index, df.groupby(pd.Grouper(key='review_time', freq='M')).count()['asin'])\n",
        "ax.xaxis.set_major_locator(YearLocator())\n",
        "ax.xaxis.set_major_formatter(DateFormatter('%Y'))\n",
        "ax.xaxis.set_tick_params(rotation=45)\n",
        "ax.set_xlabel(\"Year\", fontsize=10)\n",
        "ax.set_ylabel(\"Number of Product Reviewed\", fontsize=10)\n",
        "ax.grid()\n"
      ],
      "execution_count": null,
      "outputs": []
    },
    {
      "cell_type": "code",
      "metadata": {
        "id": "KyU6rpOAbtTk"
      },
      "source": [
        "# Define a function to plot word cloud\n",
        "def plot_cloud(wordcloud):\n",
        "    # Set figure size\n",
        "    plt.figure(figsize=(18, 6))\n",
        "    # Display image\n",
        "    plt.imshow(wordcloud) \n",
        "    # No axis details\n",
        "    plt.axis(\"off\");"
      ],
      "execution_count": null,
      "outputs": []
    },
    {
      "cell_type": "code",
      "metadata": {
        "id": "mCuV0EU_dXpO"
      },
      "source": [
        "# Import package\n",
        "from wordcloud import WordCloud, STOPWORDS\n",
        "# Generate word cloud\n",
        "wordcloud = WordCloud(width= 800, height = 800, random_state=1, background_color='white', stopwords = STOPWORDS).generate(str(df['review_text'].values))\n",
        "# Plot\n",
        "plot_cloud(wordcloud)"
      ],
      "execution_count": null,
      "outputs": []
    },
    {
      "cell_type": "markdown",
      "metadata": {
        "id": "A_kFNnB0fE3K"
      },
      "source": [
        "# Feature Extraction"
      ]
    },
    {
      "cell_type": "markdown",
      "metadata": {
        "id": "gtLoJGtvJx6A"
      },
      "source": [
        "Split the data into train and test subset"
      ]
    },
    {
      "cell_type": "code",
      "metadata": {
        "id": "d7exsDnmJuJi"
      },
      "source": [
        "X = df['review_text']\n",
        "y = df['rating_class']\n",
        "x_train, x_test, y_train, y_test = train_test_split(X, y, test_size=0.25, random_state=42)"
      ],
      "execution_count": 10,
      "outputs": []
    },
    {
      "cell_type": "markdown",
      "metadata": {
        "id": "os8HjWHmjltN"
      },
      "source": [
        "## TF-IDF"
      ]
    },
    {
      "cell_type": "code",
      "metadata": {
        "colab": {
          "base_uri": "https://localhost:8080/"
        },
        "id": "jKvoXziDErlE",
        "outputId": "89000f98-b972-4178-d1c8-2246a445952e"
      },
      "source": [
        "# create the object of tfid vectorizer\n",
        "tfid_vectorizer = TfidfVectorizer(ngram_range=(1,2), min_df=5, max_df=0.7, use_idf=True)\n",
        "# fit the vectorizer using the text data\n",
        "tfid = tfid_vectorizer.fit(x_train)\n",
        "# collect the vocabulary items used in the vectorizer\n",
        "dictionary = tfid_vectorizer.vocabulary_.items()\n",
        "\n",
        "tfid_matrix_train = tfid_vectorizer.transform(x_train).todense()\n",
        "tfid_matrix_test = tfid_vectorizer.transform(x_test).todense()\n",
        "feature_names = tfid_vectorizer.get_feature_names()\n",
        "\n",
        "# store the tf-idf array into pandas dataframe\n",
        "x_train = pd.DataFrame(tfid_matrix_train, columns=feature_names)\n",
        "x_test = pd.DataFrame(tfid_matrix_test, columns=feature_names)"
      ],
      "execution_count": 11,
      "outputs": [
        {
          "output_type": "stream",
          "name": "stderr",
          "text": [
            "/usr/local/lib/python3.7/dist-packages/sklearn/utils/deprecation.py:87: FutureWarning: Function get_feature_names is deprecated; get_feature_names is deprecated in 1.0 and will be removed in 1.2. Please use get_feature_names_out instead.\n",
            "  warnings.warn(msg, category=FutureWarning)\n"
          ]
        }
      ]
    },
    {
      "cell_type": "code",
      "metadata": {
        "colab": {
          "base_uri": "https://localhost:8080/"
        },
        "id": "Tnl1fR3qmgOP",
        "outputId": "9151dbf6-b172-4e08-9452-a31557a7f073"
      },
      "source": [
        "print(x_train.shape)\n",
        "print(x_test.shape)"
      ],
      "execution_count": 13,
      "outputs": [
        {
          "output_type": "stream",
          "name": "stdout",
          "text": [
            "(6843, 12173)\n",
            "(2281, 12173)\n"
          ]
        }
      ]
    },
    {
      "cell_type": "code",
      "metadata": {
        "id": "99yCrGHhAujI"
      },
      "source": [
        "pickle.dump(tfid_vectorizer.vocabulary_,open(\"/content/drive/MyDrive/feature.pkl\",\"wb\"))"
      ],
      "execution_count": 14,
      "outputs": []
    },
    {
      "cell_type": "markdown",
      "metadata": {
        "id": "tnI4MBYEjpFt"
      },
      "source": [
        "## Word2Vec"
      ]
    },
    {
      "cell_type": "code",
      "metadata": {
        "id": "EpiPFh6AjrNZ"
      },
      "source": [
        "documents = [_text.split() for _text in x_train]"
      ],
      "execution_count": 41,
      "outputs": []
    },
    {
      "cell_type": "code",
      "metadata": {
        "id": "HEGfJCPrjtIc"
      },
      "source": [
        "w2v_model = gensim.models.word2vec.Word2Vec(size=300, window=7, min_count=5, workers=8)"
      ],
      "execution_count": 42,
      "outputs": []
    },
    {
      "cell_type": "code",
      "metadata": {
        "id": "PYeIVky2juw1",
        "colab": {
          "base_uri": "https://localhost:8080/"
        },
        "outputId": "98eb42a7-cf48-46e3-a602-ced9bd8e8c3a"
      },
      "source": [
        "w2v_model.build_vocab(documents)\n",
        "words = w2v_model.wv.vocab.keys()\n",
        "vocab_size = len(words)\n",
        "print(\"Vocab size\", vocab_size)"
      ],
      "execution_count": 43,
      "outputs": [
        {
          "output_type": "stream",
          "name": "stdout",
          "text": [
            "Vocab size 5441\n"
          ]
        }
      ]
    },
    {
      "cell_type": "code",
      "metadata": {
        "id": "iV5lHil-jwMG",
        "colab": {
          "base_uri": "https://localhost:8080/"
        },
        "outputId": "6c8b637e-17d9-4eeb-e5ee-42bda0c533f3"
      },
      "source": [
        "w2v_model.train(documents, total_examples=len(documents), epochs=32)"
      ],
      "execution_count": 44,
      "outputs": [
        {
          "output_type": "execute_result",
          "data": {
            "text/plain": [
              "(11223756, 12938752)"
            ]
          },
          "metadata": {},
          "execution_count": 44
        }
      ]
    },
    {
      "cell_type": "code",
      "metadata": {
        "id": "c6CSlFhVjyAm",
        "colab": {
          "base_uri": "https://localhost:8080/"
        },
        "outputId": "3952f559-13a4-4119-8252-c29dfe93bbb1"
      },
      "source": [
        "tokenizer = Tokenizer()\n",
        "tokenizer.fit_on_texts(x_train)\n",
        "\n",
        "vocab_size = len(tokenizer.word_index) + 1\n",
        "print(\"Total words\", vocab_size)"
      ],
      "execution_count": 45,
      "outputs": [
        {
          "output_type": "stream",
          "name": "stdout",
          "text": [
            "Total words 24624\n"
          ]
        }
      ]
    },
    {
      "cell_type": "code",
      "metadata": {
        "id": "jc91XJJ3j16x"
      },
      "source": [
        "x_train = pad_sequences(tokenizer.texts_to_sequences(x_train), maxlen=300)\n",
        "x_test = pad_sequences(tokenizer.texts_to_sequences(x_test), maxlen=300)"
      ],
      "execution_count": 46,
      "outputs": []
    },
    {
      "cell_type": "markdown",
      "metadata": {
        "id": "GLRhhxf1fUb-"
      },
      "source": [
        "#Feature Selection"
      ]
    },
    {
      "cell_type": "code",
      "metadata": {
        "id": "AUynf0B-gmNC"
      },
      "source": [
        "chi2score = chi2(x_train, y_train)[0]"
      ],
      "execution_count": 12,
      "outputs": []
    },
    {
      "cell_type": "code",
      "metadata": {
        "colab": {
          "base_uri": "https://localhost:8080/",
          "height": 683
        },
        "id": "WmEw7fSSg0Mh",
        "outputId": "8b9fdc0f-c749-4e13-9278-81168aa9d878"
      },
      "source": [
        "plt.figure(figsize=(15,10))\n",
        "wscores = list(zip(tfid_vectorizer.get_feature_names(), chi2score))\n",
        "wchi2 = sorted(wscores, key=lambda x:x[1])\n",
        "topchi2 = list(zip(*wchi2[-20:]))\n",
        "x = range(len(topchi2[1]))\n",
        "labels = topchi2[0]\n",
        "plt.barh(x,topchi2[1], align='center', alpha=0.2)\n",
        "plt.plot(topchi2[1], x, '-o', markersize=5, alpha=0.8)\n",
        "plt.yticks(x, labels)\n",
        "plt.xlabel('$\\chi^2$')"
      ],
      "execution_count": 13,
      "outputs": [
        {
          "output_type": "stream",
          "name": "stderr",
          "text": [
            "/usr/local/lib/python3.7/dist-packages/sklearn/utils/deprecation.py:87: FutureWarning: Function get_feature_names is deprecated; get_feature_names is deprecated in 1.0 and will be removed in 1.2. Please use get_feature_names_out instead.\n",
            "  warnings.warn(msg, category=FutureWarning)\n"
          ]
        },
        {
          "output_type": "execute_result",
          "data": {
            "text/plain": [
              "Text(0.5, 0, '$\\\\chi^2$')"
            ]
          },
          "metadata": {},
          "execution_count": 13
        },
        {
          "output_type": "display_data",
          "data": {
            "image/png": "[encoded data removed]",
            "text/plain": [
              "<Figure size 1080x720 with 1 Axes>"
            ]
          },
          "metadata": {
            "needs_background": "light"
          }
        }
      ]
    },
    {
      "cell_type": "code",
      "metadata": {
        "id": "jJendjL4mSFO"
      },
      "source": [
        "chi_selector = SelectKBest(chi2, k=10000)\n",
        "chi_selector.fit(x_train, y_train)\n",
        "x_train = chi_selector.transform(x_train)\n",
        "x_test = chi_selector.transform(x_test)"
      ],
      "execution_count": 14,
      "outputs": []
    },
    {
      "cell_type": "markdown",
      "metadata": {
        "id": "_WQtlQZAvWLI"
      },
      "source": [
        "# Model Development"
      ]
    },
    {
      "cell_type": "code",
      "metadata": {
        "id": "Y-usbbCSSYqH"
      },
      "source": [
        "from sklearn.metrics import precision_recall_curve, average_precision_score, make_scorer\n",
        "aucpr_score = make_scorer(average_precision_score, pos_label=1)"
      ],
      "execution_count": 15,
      "outputs": []
    },
    {
      "cell_type": "markdown",
      "source": [
        "## Naive Bayes"
      ],
      "metadata": {
        "id": "tJVsZDLT1grp"
      }
    },
    {
      "cell_type": "code",
      "source": [
        "from sklearn.naive_bayes import MultinomialNB"
      ],
      "metadata": {
        "id": "rrKHzkUc1If_"
      },
      "execution_count": 16,
      "outputs": []
    },
    {
      "cell_type": "code",
      "source": [
        "classifier = MultinomialNB()"
      ],
      "metadata": {
        "id": "eKdURIJz05U3"
      },
      "execution_count": 17,
      "outputs": []
    },
    {
      "cell_type": "code",
      "source": [
        "alpha_list = np.linspace(0.2,1,5)\n",
        "alpha_list = np.around(alpha_list, decimals=4)\n",
        "kf = StratifiedKFold(n_splits=30, shuffle=False)\n",
        "params = {'alpha': alpha_list}"
      ],
      "metadata": {
        "id": "HSIoGeOg1pNZ"
      },
      "execution_count": 18,
      "outputs": []
    },
    {
      "cell_type": "code",
      "source": [
        "import time\n",
        "start_time = time.time()\n",
        "NBClassifier = GridSearchCV(classifier, param_grid=params, cv=kf, n_jobs=-1, verbose=1, scoring=aucpr_score).fit(x_train, y_train)\n",
        "train_time = time.time() - start_time\n",
        "print('Done training in', train_time, 'seconds.')"
      ],
      "metadata": {
        "id": "dO7cEDCM1Zo_",
        "outputId": "dd43e7e8-0e34-459e-9a2f-4adec0d9440d",
        "colab": {
          "base_uri": "https://localhost:8080/"
        }
      },
      "execution_count": 19,
      "outputs": [
        {
          "output_type": "stream",
          "name": "stdout",
          "text": [
            "Fitting 30 folds for each of 5 candidates, totalling 150 fits\n",
            "Done training in 224.1195728778839 seconds.\n"
          ]
        }
      ]
    },
    {
      "cell_type": "code",
      "source": [
        "results = pd.DataFrame()\n",
        "# collect parameter list\n",
        "results['alpha'] = NBClassifier.cv_results_['param_alpha'].data\n",
        "# collect test scores\n",
        "results['score'] = NBClassifier.cv_results_['mean_test_score'].data\n",
        "#collect standard deviations\n",
        "results['std'] = NBClassifier.cv_results_['std_test_score'].data\n",
        "\n",
        "plt.rcParams['figure.figsize'] = (10, 6)\n",
        "plt.plot(results['alpha'], results['score'])\n",
        "plt.errorbar(results['alpha'], results['score'], yerr=results['std'], fmt='.', capsize=10)\n",
        "plt.xlabel('C')\n",
        "plt.ylabel('Score')\n",
        "plt.grid()\n",
        "\n",
        "print(NBClassifier.best_params_)\n",
        "print(NBClassifier.best_score_)\n",
        "print(NBClassifier.cv_results_['std_test_score'][NBClassifier.best_index_])"
      ],
      "metadata": {
        "id": "gTVO87--2SIg",
        "outputId": "3db893eb-af47-4fdf-cde7-80a7cc092f73",
        "colab": {
          "base_uri": "https://localhost:8080/",
          "height": 440
        }
      },
      "execution_count": 20,
      "outputs": [
        {
          "output_type": "stream",
          "name": "stdout",
          "text": [
            "{'alpha': 0.2}\n",
            "0.904069745440681\n",
            "0.009012392484806023\n"
          ]
        },
        {
          "output_type": "display_data",
          "data": {
            "image/png": "[encoded data removed]",
            "text/plain": [
              "<Figure size 720x432 with 1 Axes>"
            ]
          },
          "metadata": {
            "needs_background": "light"
          }
        }
      ]
    },
    {
      "cell_type": "code",
      "source": [
        "base_preds = NBClassifier.predict(x_test)\n",
        "labels = df['rating_class'].unique()\n",
        "cm = confusion_matrix(y_test, base_preds)\n",
        "cm = cm.astype('float') / cm.sum(axis=1)[:, np.newaxis]\n",
        "plt.rcParams['figure.figsize'] = (8, 6)\n",
        "ax= plt.subplot()\n",
        "sns.heatmap(cm, annot=True, fmt='.2f', cmap='Blues', cbar=True, ax = ax)\n",
        "ax.set_xlabel('Predicted labels')\n",
        "ax.set_ylabel('True labels')\n",
        "plt.show()"
      ],
      "metadata": {
        "id": "C8_WAvoh1dZs",
        "outputId": "1d364753-8022-4663-8930-b5284f06b95a",
        "colab": {
          "base_uri": "https://localhost:8080/",
          "height": 391
        }
      },
      "execution_count": 72,
      "outputs": [
        {
          "output_type": "display_data",
          "data": {
            "image/png": "[encoded data removed]",
            "text/plain": [
              "<Figure size 576x432 with 2 Axes>"
            ]
          },
          "metadata": {}
        }
      ]
    },
    {
      "cell_type": "code",
      "source": [
        "#Quick diagnostics\n",
        "print(classification_report(y_test.astype(str), base_preds.astype(str)))"
      ],
      "metadata": {
        "id": "qJlPH37cNr1s"
      },
      "execution_count": null,
      "outputs": []
    },
    {
      "cell_type": "markdown",
      "metadata": {
        "id": "Zvu2nPywIHQS"
      },
      "source": [
        "## Support Vector Machine"
      ]
    },
    {
      "cell_type": "code",
      "metadata": {
        "id": "pPBF8oHb955H"
      },
      "source": [
        "classifier = LinearSVC(class_weight='balanced', random_state=0)"
      ],
      "execution_count": 19,
      "outputs": []
    },
    {
      "cell_type": "code",
      "metadata": {
        "id": "f3yBzGg83Ozh"
      },
      "source": [
        "alpha_list = np.linspace(0.02,0.1,5)\n",
        "alpha_list = np.around(alpha_list, decimals=4)\n",
        "kf = StratifiedKFold(n_splits=30, shuffle=False)\n",
        "params = {'C': alpha_list}"
      ],
      "execution_count": 20,
      "outputs": []
    },
    {
      "cell_type": "code",
      "metadata": {
        "id": "X-yi1ZUvBhfk",
        "colab": {
          "base_uri": "https://localhost:8080/"
        },
        "outputId": "763256d5-b7ab-45f6-f617-e607b8e6ef9f"
      },
      "source": [
        "import time\n",
        "start_time = time.time()\n",
        "SVCClassifier = GridSearchCV(classifier, param_grid=params, cv=kf, n_jobs=-1, verbose=1, scoring=aucpr_score).fit(x_train, y_train)\n",
        "train_time = time.time() - start_time\n",
        "print('Done training in', train_time, 'seconds.')"
      ],
      "execution_count": 22,
      "outputs": [
        {
          "output_type": "stream",
          "name": "stdout",
          "text": [
            "Fitting 30 folds for each of 5 candidates, totalling 150 fits\n",
            "Done training in 229.23351788520813 seconds.\n"
          ]
        }
      ]
    },
    {
      "cell_type": "code",
      "metadata": {
        "colab": {
          "base_uri": "https://localhost:8080/",
          "height": 440
        },
        "id": "IjY-3EWWXeRP",
        "outputId": "b68228b6-2c7b-4a57-80f9-3e927b67eeab"
      },
      "source": [
        "results = pd.DataFrame()\n",
        "# collect parameter list\n",
        "results['alpha'] = SVCClassifier.cv_results_['param_C'].data\n",
        "# collect test scores\n",
        "results['score'] = SVCClassifier.cv_results_['mean_test_score'].data\n",
        "#collect standard deviations\n",
        "results['score'] = NBClassifier.cv_results_['std_test_score'].data\n",
        "\n",
        "plt.rcParams['figure.figsize'] = (10, 6)\n",
        "plt.plot(results['alpha'], results['score'])\n",
        "plt.errorbar(results['alpha'], results['score'], yerr=results['std'], fcapsize=10)\n",
        "plt.xlabel('C')\n",
        "plt.ylabel('Score')\n",
        "plt.grid()\n",
        "\n",
        "print(SVCClassifier.best_params_)\n",
        "print(SVCClassifier.best_score_)\n",
        "print(SVCClassifier.cv_results_['std_test_score'][SVCClassifier.best_index_])"
      ],
      "execution_count": 23,
      "outputs": [
        {
          "output_type": "stream",
          "name": "stdout",
          "text": [
            "{'C': 0.08}\n",
            "0.963857859490638\n",
            "0.009991762365564422\n"
          ]
        },
        {
          "output_type": "display_data",
          "data": {
            "image/png": "[encoded data removed]",
            "text/plain": [
              "<Figure size 720x432 with 1 Axes>"
            ]
          },
          "metadata": {
            "needs_background": "light"
          }
        }
      ]
    },
    {
      "cell_type": "code",
      "metadata": {
        "id": "X78fCTiO_tKW"
      },
      "source": [
        "SVCClassifier = classifier.fit(x_train, y_train)"
      ],
      "execution_count": null,
      "outputs": []
    },
    {
      "cell_type": "code",
      "metadata": {
        "id": "UOIF3HFu990j",
        "colab": {
          "base_uri": "https://localhost:8080/",
          "height": 388
        },
        "outputId": "8dd963b6-8742-4f24-a197-fe17ab7b9b5c"
      },
      "source": [
        "base_preds = SVCClassifier.predict(x_test)\n",
        "labels = df['rating_class'].unique()\n",
        "cm = confusion_matrix(y_test, base_preds)\n",
        "cm = cm.astype('float') / cm.sum(axis=1)[:, np.newaxis]\n",
        "plt.rcParams['figure.figsize'] = (8, 6)\n",
        "ax= plt.subplot()\n",
        "sns.heatmap(cm, annot=True, fmt='.2f', cmap='Blues', cbar=True, ax = ax)\n",
        "ax.set_xlabel('Predicted labels')\n",
        "ax.set_ylabel('True labels')\n",
        "plt.show()"
      ],
      "execution_count": 24,
      "outputs": [
        {
          "output_type": "display_data",
          "data": {
            "image/png": "[encoded data removed]",
            "text/plain": [
              "<Figure size 576x432 with 2 Axes>"
            ]
          },
          "metadata": {
            "needs_background": "light"
          }
        }
      ]
    },
    {
      "cell_type": "code",
      "metadata": {
        "id": "PrpQxFjY_u45",
        "colab": {
          "base_uri": "https://localhost:8080/"
        },
        "outputId": "c36a32a2-18b0-4dbc-c8f4-a98860400fa8"
      },
      "source": [
        "#Quick diagnostics\n",
        "print(classification_report(y_test.astype(str), base_preds.astype(str)))"
      ],
      "execution_count": null,
      "outputs": [
        {
          "output_type": "stream",
          "name": "stdout",
          "text": [
            "              precision    recall  f1-score   support\n",
            "\n",
            "          -1       0.56      0.79      0.66       271\n",
            "           1       0.97      0.92      0.94      2010\n",
            "\n",
            "    accuracy                           0.90      2281\n",
            "   macro avg       0.77      0.85      0.80      2281\n",
            "weighted avg       0.92      0.90      0.91      2281\n",
            "\n"
          ]
        }
      ]
    },
    {
      "cell_type": "markdown",
      "metadata": {
        "id": "syQoA6rtIPXs"
      },
      "source": [
        "## Logistic Regression"
      ]
    },
    {
      "cell_type": "code",
      "metadata": {
        "id": "RJFP1PuUIRSJ"
      },
      "source": [
        "classifier = LogisticRegression(random_state=0, class_weight='balanced')"
      ],
      "execution_count": 25,
      "outputs": []
    },
    {
      "cell_type": "code",
      "metadata": {
        "id": "0RULAqgCIioJ"
      },
      "source": [
        "alpha_list = np.linspace(0.8,1.2,5)\n",
        "alpha_list = np.around(alpha_list, decimals=4)\n",
        "kf = StratifiedKFold(n_splits=30, shuffle=False)\n",
        "params = {'C': alpha_list}"
      ],
      "execution_count": 26,
      "outputs": []
    },
    {
      "cell_type": "code",
      "metadata": {
        "id": "59C0zUFkImVy",
        "colab": {
          "base_uri": "https://localhost:8080/"
        },
        "outputId": "4e3f44ee-3ec7-4867-ff20-8903c112b084"
      },
      "source": [
        "import time\n",
        "start_time = time.time()\n",
        "LRClassifier = GridSearchCV(classifier, param_grid=params, cv=kf, n_jobs=-1, verbose=1, scoring=aucpr_score).fit(x_train, y_train)\n",
        "train_time = time.time() - start_time\n",
        "print('Done training in', train_time, 'seconds.')"
      ],
      "execution_count": 27,
      "outputs": [
        {
          "output_type": "stream",
          "name": "stdout",
          "text": [
            "Fitting 30 folds for each of 5 candidates, totalling 150 fits\n",
            "Done training in 690.8538081645966 seconds.\n"
          ]
        }
      ]
    },
    {
      "cell_type": "code",
      "metadata": {
        "colab": {
          "base_uri": "https://localhost:8080/",
          "height": 440
        },
        "id": "k0Z2jPyMXmSW",
        "outputId": "892e5c7b-2876-4fd1-9c25-d0ee293abb97"
      },
      "source": [
        "results = pd.DataFrame()\n",
        "# collect parameter list\n",
        "results['alpha'] = LRClassifier.cv_results_['param_C'].data\n",
        "# collect test scores\n",
        "results['score'] = LRClassifier.cv_results_['mean_test_score'].data\n",
        "#collect standard deviations\n",
        "results['score'] = NBClassifier.cv_results_['std_test_score'].data\n",
        "\n",
        "plt.rcParams['figure.figsize'] = (10, 6)\n",
        "plt.plot(results['alpha'], results['score'])\n",
        "plt.errorbar(results['alpha'], results['score'], yerr=results['std'], fmt='.', capsize=10)\n",
        "plt.xlabel('C')\n",
        "plt.ylabel('Score')\n",
        "plt.grid()\n",
        "\n",
        "print(LRClassifier.best_params_)\n",
        "print(LRClassifier.best_score_)\n",
        "print(LRClassifier.cv_results_['std_test_score'][LRClassifier.best_index_])"
      ],
      "execution_count": 28,
      "outputs": [
        {
          "output_type": "stream",
          "name": "stdout",
          "text": [
            "{'C': 0.9}\n",
            "0.9634430750352807\n",
            "0.009647867147663556\n"
          ]
        },
        {
          "output_type": "display_data",
          "data": {
            "image/png": "[encoded data removed]",
            "text/plain": [
              "<Figure size 720x432 with 1 Axes>"
            ]
          },
          "metadata": {
            "needs_background": "light"
          }
        }
      ]
    },
    {
      "cell_type": "code",
      "metadata": {
        "id": "Sw3K7UGwa78I"
      },
      "source": [
        "LRClassifier = classifier.fit(x_train, y_train)"
      ],
      "execution_count": null,
      "outputs": []
    },
    {
      "cell_type": "code",
      "metadata": {
        "id": "sANXFQK8Iefu",
        "colab": {
          "base_uri": "https://localhost:8080/",
          "height": 388
        },
        "outputId": "0be3cd94-7506-477d-e5d3-557e174ecfbe"
      },
      "source": [
        "base_preds = LRClassifier.predict(x_test)\n",
        "labels = df['rating_class'].unique()\n",
        "cm = confusion_matrix(y_test, base_preds)\n",
        "cm = cm.astype('float') / cm.sum(axis=1)[:, np.newaxis]\n",
        "plt.rcParams['figure.figsize'] = (8, 6)\n",
        "ax= plt.subplot()\n",
        "sns.heatmap(cm, annot=True, fmt='.2f', cmap='Blues', cbar=True, ax = ax)\n",
        "ax.set_xlabel('Predicted labels')\n",
        "ax.set_ylabel('True labels')\n",
        "plt.show()"
      ],
      "execution_count": 30,
      "outputs": [
        {
          "output_type": "display_data",
          "data": {
            "image/png": "[encoded data removed]",
            "text/plain": [
              "<Figure size 576x432 with 2 Axes>"
            ]
          },
          "metadata": {
            "needs_background": "light"
          }
        }
      ]
    },
    {
      "cell_type": "code",
      "metadata": {
        "id": "1sU0w1OlIguh",
        "colab": {
          "base_uri": "https://localhost:8080/"
        },
        "outputId": "fd5a3ad2-6b89-44db-a477-15a22e40ac15"
      },
      "source": [
        "#Quick diagnostics\n",
        "print(classification_report(y_test.astype(str), base_preds.astype(str)))"
      ],
      "execution_count": null,
      "outputs": [
        {
          "output_type": "stream",
          "name": "stdout",
          "text": [
            "              precision    recall  f1-score   support\n",
            "\n",
            "          -1       0.62      0.77      0.69       271\n",
            "           1       0.97      0.94      0.95      2010\n",
            "\n",
            "    accuracy                           0.92      2281\n",
            "   macro avg       0.80      0.86      0.82      2281\n",
            "weighted avg       0.93      0.92      0.92      2281\n",
            "\n"
          ]
        }
      ]
    },
    {
      "cell_type": "markdown",
      "metadata": {
        "id": "j458N1GJZhI1"
      },
      "source": [
        "## Decision Tree"
      ]
    },
    {
      "cell_type": "code",
      "metadata": {
        "id": "sJ29sgBtZjz6"
      },
      "source": [
        "from sklearn.tree import DecisionTreeClassifier"
      ],
      "execution_count": null,
      "outputs": []
    },
    {
      "cell_type": "code",
      "metadata": {
        "id": "sO9PkogMZobb"
      },
      "source": [
        "classifier = DecisionTreeClassifier(class_weight='balanced')"
      ],
      "execution_count": null,
      "outputs": []
    },
    {
      "cell_type": "code",
      "metadata": {
        "id": "3R4W1g-IZsli"
      },
      "source": [
        "DCClassifier = classifier.fit(x_train, y_train)"
      ],
      "execution_count": null,
      "outputs": []
    },
    {
      "cell_type": "code",
      "metadata": {
        "colab": {
          "base_uri": "https://localhost:8080/",
          "height": 390
        },
        "id": "qai9vVJ4Z7rU",
        "outputId": "cc8ea24f-b893-4d7e-8d2b-e4e2f463c0e9"
      },
      "source": [
        "base_preds = DCClassifier.predict(x_test)\n",
        "labels = df['rating_class'].unique()\n",
        "cm = confusion_matrix(y_test, base_preds)\n",
        "cm = cm.astype('float') / cm.sum(axis=1)[:, np.newaxis]\n",
        "plt.rcParams['figure.figsize'] = (8, 6)\n",
        "ax= plt.subplot()\n",
        "sns.heatmap(cm, annot=True, fmt='.2f', cmap='Blues', cbar=True, ax = ax)\n",
        "ax.set_xlabel('Predicted labels')\n",
        "ax.set_ylabel('True labels')\n",
        "plt.show()"
      ],
      "execution_count": null,
      "outputs": [
        {
          "output_type": "display_data",
          "data": {
            "image/png": "[encoded data removed]",
            "text/plain": [
              "<Figure size 576x432 with 2 Axes>"
            ]
          },
          "metadata": {
            "needs_background": "light"
          }
        }
      ]
    },
    {
      "cell_type": "code",
      "metadata": {
        "colab": {
          "base_uri": "https://localhost:8080/"
        },
        "id": "-dHChL3zawr0",
        "outputId": "1c473ecc-a9cd-4b88-ab0c-f9c4c1b80b68"
      },
      "source": [
        "#Quick diagnostics\n",
        "print(classification_report(y_test.astype(str), base_preds.astype(str)))"
      ],
      "execution_count": null,
      "outputs": [
        {
          "output_type": "stream",
          "name": "stdout",
          "text": [
            "              precision    recall  f1-score   support\n",
            "\n",
            "           0       0.34      0.39      0.36       281\n",
            "           1       0.92      0.91      0.91      2219\n",
            "\n",
            "    accuracy                           0.85      2500\n",
            "   macro avg       0.63      0.65      0.64      2500\n",
            "weighted avg       0.86      0.85      0.85      2500\n",
            "\n"
          ]
        }
      ]
    },
    {
      "cell_type": "markdown",
      "metadata": {
        "id": "0Z-sqWwU3AHy"
      },
      "source": [
        "## Deep Learning"
      ]
    },
    {
      "cell_type": "code",
      "metadata": {
        "colab": {
          "base_uri": "https://localhost:8080/"
        },
        "id": "f3At2UwiPKYk",
        "outputId": "97ea46d2-1884-4462-c116-f10f9b9873dc"
      },
      "source": [
        "embedding_matrix = np.zeros((vocab_size,300))\n",
        "for word, i in tokenizer.word_index.items():\n",
        "    if word in w2v_model.wv:\n",
        "        embedding_matrix[i] = w2v_model.wv[word]\n",
        "print(embedding_matrix.shape)"
      ],
      "execution_count": 47,
      "outputs": [
        {
          "output_type": "stream",
          "name": "stdout",
          "text": [
            "(24624, 300)\n"
          ]
        }
      ]
    },
    {
      "cell_type": "code",
      "metadata": {
        "id": "wgcW41mJ60KX"
      },
      "source": [
        "embedding_layer = Embedding(vocab_size, 300, weights=[embedding_matrix], input_length=300, trainable=False)"
      ],
      "execution_count": 48,
      "outputs": []
    },
    {
      "cell_type": "code",
      "metadata": {
        "id": "kUCgbo3U7ES9",
        "colab": {
          "base_uri": "https://localhost:8080/"
        },
        "outputId": "70401407-3be5-46de-c8f8-4200831fb90e"
      },
      "source": [
        "model = Sequential()\n",
        "model.add(embedding_layer)\n",
        "model.add(SpatialDropout1D(0.3))\n",
        "model.add(LSTM(128, dropout=0.2, recurrent_dropout=0.25))\n",
        "model.add(Dense(1, activation='sigmoid'))\n",
        "\n",
        "model.summary()"
      ],
      "execution_count": 49,
      "outputs": [
        {
          "output_type": "stream",
          "name": "stdout",
          "text": [
            "WARNING:tensorflow:Layer lstm will not use cuDNN kernels since it doesn't meet the criteria. It will use a generic GPU kernel as fallback when running on GPU.\n",
            "Model: \"sequential\"\n",
            "_________________________________________________________________\n",
            " Layer (type)                Output Shape              Param #   \n",
            "=================================================================\n",
            " embedding (Embedding)       (None, 300, 300)          7387200   \n",
            "                                                                 \n",
            " spatial_dropout1d (SpatialD  (None, 300, 300)         0         \n",
            " ropout1D)                                                       \n",
            "                                                                 \n",
            " lstm (LSTM)                 (None, 128)               219648    \n",
            "                                                                 \n",
            " dense (Dense)               (None, 1)                 129       \n",
            "                                                                 \n",
            "=================================================================\n",
            "Total params: 7,606,977\n",
            "Trainable params: 219,777\n",
            "Non-trainable params: 7,387,200\n",
            "_________________________________________________________________\n"
          ]
        }
      ]
    },
    {
      "cell_type": "code",
      "metadata": {
        "id": "PDi-7JcixXLg"
      },
      "source": [
        "pr_metric = AUC(curve='PR', num_thresholds=1000) # The higher the threshold value, the more accurate it is calculated.\n",
        "model.compile(loss=\"binary_crossentropy\", optimizer='adam', metrics=[pr_metric])\n",
        "callbacks = [ReduceLROnPlateau(monitor='val_loss', patience=5, cooldown=0), EarlyStopping(monitor='val_auc', min_delta=1e-4, patience=5)]"
      ],
      "execution_count": 50,
      "outputs": []
    },
    {
      "cell_type": "code",
      "metadata": {
        "colab": {
          "base_uri": "https://localhost:8080/"
        },
        "id": "njvV6Ei4Ovdp",
        "outputId": "e2b18171-7574-4892-c019-39021af2e663"
      },
      "source": [
        "class_weights = class_weight.compute_class_weight(class_weight = \"balanced\",\n",
        "                                        classes = np.unique(y_train),\n",
        "                                        y = np.ravel(y_train))\n",
        "\n",
        "class_weights = {i : class_weights[i] for i in range(2)}\n",
        "class_weights"
      ],
      "execution_count": 51,
      "outputs": [
        {
          "output_type": "execute_result",
          "data": {
            "text/plain": [
              "{0: 4.127261761158022, 1: 0.5689225141336881}"
            ]
          },
          "metadata": {},
          "execution_count": 51
        }
      ]
    },
    {
      "cell_type": "code",
      "metadata": {
        "id": "Hbi8s67W7dfL",
        "colab": {
          "base_uri": "https://localhost:8080/"
        },
        "outputId": "cd0ad1b3-3581-4376-fe60-60927deb67d4"
      },
      "source": [
        "import time\n",
        "start_time = time.time()\n",
        "H = model.fit(x_train, y_train, batch_size=1024, epochs=20, class_weight=class_weights, validation_split=0.2, verbose=1, callbacks=callbacks)\n",
        "train_time = time.time() - start_time\n",
        "print('Done training in', train_time, 'seconds.')"
      ],
      "execution_count": 54,
      "outputs": [
        {
          "output_type": "stream",
          "name": "stdout",
          "text": [
            "Epoch 1/20\n",
            "6/6 [==============================] - 26s 4s/step - loss: 0.5733 - auc: 0.9574 - val_loss: 0.5236 - val_auc: 0.9610 - lr: 0.0010\n",
            "Epoch 2/20\n",
            "6/6 [==============================] - 10s 2s/step - loss: 0.5141 - auc: 0.9692 - val_loss: 0.4470 - val_auc: 0.9710 - lr: 0.0010\n",
            "Epoch 3/20\n",
            "6/6 [==============================] - 10s 2s/step - loss: 0.4718 - auc: 0.9763 - val_loss: 0.5321 - val_auc: 0.9742 - lr: 0.0010\n",
            "Epoch 4/20\n",
            "6/6 [==============================] - 10s 2s/step - loss: 0.4445 - auc: 0.9798 - val_loss: 0.4557 - val_auc: 0.9746 - lr: 0.0010\n",
            "Epoch 5/20\n",
            "6/6 [==============================] - 10s 2s/step - loss: 0.4123 - auc: 0.9831 - val_loss: 0.4376 - val_auc: 0.9763 - lr: 0.0010\n",
            "Epoch 6/20\n",
            "6/6 [==============================] - 10s 2s/step - loss: 0.4084 - auc: 0.9836 - val_loss: 0.8190 - val_auc: 0.9693 - lr: 0.0010\n",
            "Epoch 7/20\n",
            "6/6 [==============================] - 10s 2s/step - loss: 0.4149 - auc: 0.9830 - val_loss: 0.3628 - val_auc: 0.9711 - lr: 0.0010\n",
            "Epoch 8/20\n",
            "6/6 [==============================] - 10s 2s/step - loss: 0.4109 - auc: 0.9837 - val_loss: 0.4906 - val_auc: 0.9715 - lr: 0.0010\n",
            "Epoch 9/20\n",
            "6/6 [==============================] - 11s 2s/step - loss: 0.3957 - auc: 0.9851 - val_loss: 0.3990 - val_auc: 0.9765 - lr: 0.0010\n",
            "Epoch 10/20\n",
            "6/6 [==============================] - 10s 2s/step - loss: 0.3578 - auc: 0.9879 - val_loss: 0.3399 - val_auc: 0.9790 - lr: 0.0010\n",
            "Epoch 11/20\n",
            "6/6 [==============================] - 10s 2s/step - loss: 0.3305 - auc: 0.9897 - val_loss: 0.4748 - val_auc: 0.9789 - lr: 0.0010\n",
            "Epoch 12/20\n",
            "6/6 [==============================] - 10s 2s/step - loss: 0.3602 - auc: 0.9875 - val_loss: 0.3644 - val_auc: 0.9777 - lr: 0.0010\n",
            "Epoch 13/20\n",
            "6/6 [==============================] - 10s 2s/step - loss: 0.3177 - auc: 0.9906 - val_loss: 0.4064 - val_auc: 0.9770 - lr: 0.0010\n",
            "Epoch 14/20\n",
            "6/6 [==============================] - 10s 2s/step - loss: 0.3170 - auc: 0.9911 - val_loss: 0.3339 - val_auc: 0.9778 - lr: 0.0010\n",
            "Epoch 15/20\n",
            "6/6 [==============================] - 10s 2s/step - loss: 0.3145 - auc: 0.9913 - val_loss: 0.3541 - val_auc: 0.9782 - lr: 0.0010\n",
            "Done training in 163.0465030670166 seconds.\n"
          ]
        }
      ]
    },
    {
      "cell_type": "code",
      "metadata": {
        "id": "6Jf1neT-8HZ5",
        "colab": {
          "base_uri": "https://localhost:8080/",
          "height": 765
        },
        "outputId": "3a0bf895-f8b6-482c-dc63-b8199bae7bd6"
      },
      "source": [
        "acc = H.history['auc']\n",
        "val_acc = H.history['val_auc']\n",
        "loss = H.history['loss']\n",
        "val_loss = H.history['val_loss']\n",
        " \n",
        "epochs = range(len(acc))\n",
        "\n",
        "plt.style.use(\"ggplot\")\n",
        "plt.rcParams['figure.figsize'] = (10, 6)\n",
        "\n",
        "plt.plot(epochs, acc, 'b', label='Training accuracy')\n",
        "plt.plot(epochs, val_acc, 'r', label='Validation accuracy')\n",
        "plt.title('Training and validation accuracy')\n",
        "plt.legend()\n",
        " \n",
        "plt.figure()\n",
        " \n",
        "plt.plot(epochs, loss, 'b', label='Training loss')\n",
        "plt.plot(epochs, val_loss, 'r', label='Validation loss')\n",
        "plt.title('Training and validation loss')\n",
        "plt.legend()\n",
        " \n",
        "plt.show()"
      ],
      "execution_count": 55,
      "outputs": [
        {
          "output_type": "display_data",
          "data": {
            "image/png": "[encoded data removed]",
            "text/plain": [
              "<Figure size 720x432 with 1 Axes>"
            ]
          },
          "metadata": {}
        },
        {
          "output_type": "display_data",
          "data": {
            "image/png": "[encoded data removed]",
            "text/plain": [
              "<Figure size 720x432 with 1 Axes>"
            ]
          },
          "metadata": {}
        }
      ]
    },
    {
      "cell_type": "code",
      "metadata": {
        "id": "gsHVFu2iSHGq"
      },
      "source": [
        "def preprocess(text, stem=False):\n",
        "    # Remove link,user and special characters\n",
        "    text = re.sub(\"@\\S+|https?:\\S+|http?:\\S|[^A-Za-z0-9]+\", ' ', str(text).lower()).strip()\n",
        "    tokens = []\n",
        "    for token in text.split():\n",
        "        if stem:\n",
        "            tokens.append(stemmer.stem(token))\n",
        "        else:\n",
        "            tokens.append(token)\n",
        "    return \" \".join(tokens)\n",
        "\n",
        "def decode_sentiment(score, include_neutral):\n",
        "    if include_neutral:        \n",
        "        label = 'NEUTRAL'\n",
        "        if score <= 0.4:\n",
        "            label = 'NEGATIVE'\n",
        "        elif score >= 0.7:\n",
        "            label = 'POSITIVE'\n",
        "        return label\n",
        "    else:\n",
        "        return 0 if score < 0.5 else 1 \n",
        "\n",
        "def predict(model, tokenizer, text, include_neutral=False, sequence_length=300):\n",
        "    \n",
        "    start_at = time.time()\n",
        "    # Tokenize text\n",
        "    text = [preprocess(t) for t in text]\n",
        "    X = pad_sequences(tokenizer.texts_to_sequences(text), maxlen=sequence_length)\n",
        "    # Predict\n",
        "    score = model.predict(X, batch_size=50)\n",
        "    # Decode sentiment\n",
        "    labels = []\n",
        "    for s in score:\n",
        "        label = decode_sentiment(s, include_neutral=include_neutral)\n",
        "        labels.append(label)\n",
        "\n",
        "    return {\"label\": labels, \"score\": score,\n",
        "       \"elapsed_time\": time.time()-start_at}"
      ],
      "execution_count": 57,
      "outputs": []
    },
    {
      "cell_type": "code",
      "metadata": {
        "id": "3rnvDmP_Q5yu",
        "colab": {
          "base_uri": "https://localhost:8080/"
        },
        "outputId": "8ec0360f-202d-41cc-81f6-64a71848f744"
      },
      "source": [
        "%%time\n",
        "y_pred_1d = []\n",
        "y_test_1d = list(y_test)\n",
        "scores = model.predict(x_test, verbose=1, batch_size=8000)\n",
        "y_pred_1d = [decode_sentiment(score, include_neutral=False) for score in scores]"
      ],
      "execution_count": 58,
      "outputs": [
        {
          "output_type": "stream",
          "name": "stdout",
          "text": [
            "1/1 [==============================] - 1s 867ms/step\n",
            "CPU times: user 787 ms, sys: 203 ms, total: 990 ms\n",
            "Wall time: 963 ms\n"
          ]
        }
      ]
    },
    {
      "cell_type": "code",
      "metadata": {
        "id": "b0b1jVWOXVOr",
        "colab": {
          "base_uri": "https://localhost:8080/",
          "height": 638
        },
        "outputId": "40a03216-0201-42a4-c306-d33a76b8847b"
      },
      "source": [
        "cm = confusion_matrix(y_test_1d, y_pred_1d)\n",
        "cm = cm.astype('float') / cm.sum(axis=1)[:, np.newaxis]\n",
        "plt.rcParams['figure.figsize'] = (20, 10)\n",
        "ax= plt.subplot()\n",
        "sns.heatmap(cm, annot=True, fmt='.2f', cmap='Blues', cbar=True, ax = ax)\n",
        "plt.title(\"Confusion matrix\", fontsize=30)\n",
        "ax.set_xlabel('Predicted labels')\n",
        "ax.set_ylabel('True labels')\n",
        "plt.show()"
      ],
      "execution_count": 59,
      "outputs": [
        {
          "output_type": "display_data",
          "data": {
            "image/png": "[encoded data removed]",
            "text/plain": [
              "<Figure size 1440x720 with 2 Axes>"
            ]
          },
          "metadata": {}
        }
      ]
    },
    {
      "cell_type": "code",
      "metadata": {
        "id": "TuGxahTzXy5u",
        "colab": {
          "base_uri": "https://localhost:8080/"
        },
        "outputId": "35cc0f57-8590-450c-9695-0a1b19b5ab1c"
      },
      "source": [
        "print(classification_report(y_test_1d, y_pred_1d))"
      ],
      "execution_count": 60,
      "outputs": [
        {
          "output_type": "stream",
          "name": "stdout",
          "text": [
            "              precision    recall  f1-score   support\n",
            "\n",
            "           0       0.44      0.71      0.54       271\n",
            "           1       0.96      0.88      0.92      2010\n",
            "\n",
            "    accuracy                           0.86      2281\n",
            "   macro avg       0.70      0.79      0.73      2281\n",
            "weighted avg       0.90      0.86      0.87      2281\n",
            "\n"
          ]
        }
      ]
    },
    {
      "cell_type": "code",
      "metadata": {
        "id": "Xc9xXv4x9MKj",
        "colab": {
          "base_uri": "https://localhost:8080/"
        },
        "outputId": "4763ee45-6f04-41b6-9c61-9d03af3c9d98"
      },
      "source": [
        "%%time\n",
        "score = model.evaluate(x_test, y_test, batch_size=5000)\n",
        "print()\n",
        "print(\"Area Under Precision-Recall Curve:\",score[1])\n",
        "print(\"LOSS:\",score[0])"
      ],
      "execution_count": null,
      "outputs": [
        {
          "output_type": "stream",
          "name": "stdout",
          "text": [
            "1/1 [==============================] - 1s 628ms/step - loss: 0.4964 - auc_3: 0.9804\n",
            "\n",
            "Area Under Precision-Recall Curve: 0.980376124382019\n",
            "LOSS: 0.4963921904563904\n",
            "CPU times: user 416 ms, sys: 222 ms, total: 638 ms\n",
            "Wall time: 683 ms\n"
          ]
        }
      ]
    },
    {
      "cell_type": "markdown",
      "metadata": {
        "id": "S8Z0nkafD4WB"
      },
      "source": [
        "# Save model"
      ]
    },
    {
      "cell_type": "code",
      "metadata": {
        "id": "Bf7UrRSbDM5z",
        "colab": {
          "base_uri": "https://localhost:8080/"
        },
        "outputId": "97e0c998-7cff-41c0-96a7-23f5daa240e5"
      },
      "source": [
        "pickle.dump(model, open('/content/drive/MyDrive/model.pkl', 'wb'))"
      ],
      "execution_count": null,
      "outputs": [
        {
          "output_type": "stream",
          "name": "stdout",
          "text": [
            "INFO:tensorflow:Assets written to: ram://ce57f8f8-ffef-41b0-8960-6a032d14db7d/assets\n"
          ]
        },
        {
          "output_type": "stream",
          "name": "stderr",
          "text": [
            "WARNING:absl:<keras.layers.recurrent.LSTMCell object at 0x7f626bd01590> has the same name 'LSTMCell' as a built-in Keras object. Consider renaming <class 'keras.layers.recurrent.LSTMCell'> to avoid naming conflicts when loading with `tf.keras.models.load_model`. If renaming is not possible, pass the object in the `custom_objects` parameter of the load function.\n"
          ]
        }
      ]
    },
    {
      "cell_type": "code",
      "metadata": {
        "id": "39KvLXEosHDa"
      },
      "source": [
        "with open('/content/drive/MyDrive/classifier.pkl', 'wb') as file:  \n",
        "    pickle.dump(LRClassifier, file)"
      ],
      "execution_count": null,
      "outputs": []
    },
    {
      "cell_type": "code",
      "metadata": {
        "colab": {
          "base_uri": "https://localhost:8080/"
        },
        "id": "5aRhjLqVsXJJ",
        "outputId": "1b4244d1-d5e8-49fa-c727-f55cea241ca3"
      },
      "source": [
        "!zip -r model.zip {/content/drive/MyDrive}"
      ],
      "execution_count": null,
      "outputs": [
        {
          "output_type": "stream",
          "name": "stdout",
          "text": [
            "\tzip warning: name not matched: {/content/drive/MyDrive}\n",
            "\n",
            "zip error: Nothing to do! (try: zip -r model.zip . -i {/content/drive/MyDrive})\n"
          ]
        }
      ]
    },
    {
      "cell_type": "code",
      "metadata": {
        "id": "KjBuq3y-ApVf",
        "colab": {
          "base_uri": "https://localhost:8080/"
        },
        "outputId": "dc3c6667-b604-4e2c-a684-41b580bbfa7d"
      },
      "source": [
        ""
      ],
      "execution_count": null,
      "outputs": [
        {
          "output_type": "stream",
          "name": "stdout",
          "text": [
            "drive  sample_data\n"
          ]
        }
      ]
    }
  ]
}